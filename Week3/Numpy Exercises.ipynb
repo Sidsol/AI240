{
 "cells": [
  {
   "cell_type": "markdown",
   "metadata": {},
   "source": [
    "# Numpy Exercise for AI 240  - 10459          \n",
    "\n",
    "Instructor- Dr. Uma Gajendragadkar\n",
    "\n",
    "### Exercise 1.1 - If Numpy is not already installed then please install Numpy using below instruction\n",
    "!pip install Numpy      \n",
    "\n",
    "### Exercise 1.2 # Import Numpy package using below instruction \n",
    "import numpy as np\n",
    "\n",
    "### Exercise 1.3 ## Example Usage Read below example and execute the cell\n",
    "\n",
    "data = np.array([1,2,3,4,5])\n",
    "\n",
    "print(data)\n",
    "\n",
    "print(len(data))\n",
    "\n",
    "print(type(data))\n",
    "\n",
    "print(data.shape)\n",
    "\n",
    "### Exercise 1.4 Do all exercises from Lecture slides. Refer slides shared after the lecture.\n",
    "\n",
    "### Exercise 1.5 Searching Arrays - find method of numpy to search an element in array - You can google for the method\n",
    "\n",
    "Find the indexes where the value is 9:\n",
    "\n",
    "\n",
    "arr = np.array([3, 2, 14, 9, 10, 12])\n",
    "\n",
    "### Exercise 1.6 Join two arrays given below and print the result.\n",
    "\n",
    "arr1 = np.array([9, 5, 8])\n",
    "\n",
    "arr2 = np.array([55, 89, 76])\n",
    "\n",
    "### Save and submit your notebook in your Github account."
   ]
  },
  {
   "cell_type": "code",
   "execution_count": 16,
   "metadata": {},
   "outputs": [
    {
     "name": "stdout",
     "output_type": "stream",
     "text": [
      "Requirement already satisfied: numpy in c:\\users\\jonah\\anaconda3\\envs\\ai240-env\\lib\\site-packages (2.0.1)\n"
     ]
    }
   ],
   "source": [
    "# Exercise 1.1\n",
    "!pip install numpy"
   ]
  },
  {
   "cell_type": "code",
   "execution_count": 17,
   "metadata": {},
   "outputs": [],
   "source": [
    "# Exercise 1.2\n",
    "import numpy as np"
   ]
  },
  {
   "cell_type": "code",
   "execution_count": 18,
   "metadata": {
    "scrolled": true
   },
   "outputs": [
    {
     "name": "stdout",
     "output_type": "stream",
     "text": [
      "[1 2 3 4 5]\n",
      "5\n",
      "<class 'numpy.ndarray'>\n",
      "(5,)\n"
     ]
    }
   ],
   "source": [
    "# Exercise 1.3\n",
    "data = np.array([1,2,3,4,5])\n",
    "\n",
    "print(data)\n",
    "print(len(data))\n",
    "print(type(data))\n",
    "print(data.shape)"
   ]
  },
  {
   "cell_type": "code",
   "execution_count": 19,
   "metadata": {},
   "outputs": [
    {
     "name": "stdout",
     "output_type": "stream",
     "text": [
      "Array Indexing\n",
      "The first element of the array is 10\n"
     ]
    }
   ],
   "source": [
    "# Exercise 1.4\n",
    "print(\"Array Indexing\")\n",
    "\n",
    "arr = np.array([10, 20, 30, 40])\n",
    "print(f\"The first element of the array is {arr[0]}\")"
   ]
  },
  {
   "cell_type": "code",
   "execution_count": 20,
   "metadata": {},
   "outputs": [
    {
     "name": "stdout",
     "output_type": "stream",
     "text": [
      "Array Slicing\n",
      "Slice elements from index 1 to index 5: [2 3 4 5]\n"
     ]
    }
   ],
   "source": [
    "# Exercise 1.4\n",
    "print(\"Array Slicing\")\n",
    "arr = np.array([1, 2, 3, 4, 5, 6, 7])\n",
    "\n",
    "print(f\"Slice elements from index 1 to index 5: {arr[1:5]}\")"
   ]
  },
  {
   "cell_type": "code",
   "execution_count": 21,
   "metadata": {},
   "outputs": [
    {
     "name": "stdout",
     "output_type": "stream",
     "text": [
      "Array sorting\n",
      "Sort [30 20 40 10]: [10 20 30 40]\n"
     ]
    }
   ],
   "source": [
    "# Exercise 1.4\n",
    "print(\"Array sorting\")\n",
    "\n",
    "arr = np.array([30, 20, 40,\n",
    "10])\n",
    "print(f\"Sort {arr}: {np.sort(arr)}\")"
   ]
  },
  {
   "cell_type": "code",
   "execution_count": 22,
   "metadata": {},
   "outputs": [
    {
     "name": "stdout",
     "output_type": "stream",
     "text": [
      "Array sorting alphabetical\n",
      "Sort ['kiwi' 'berry' 'pear']: ['berry' 'kiwi' 'pear']\n"
     ]
    }
   ],
   "source": [
    "# Exercise 1.4\n",
    "print(\"Array sorting alphabetical\")\n",
    "\n",
    "arr = np.array(['kiwi', 'berry', 'pear'])\n",
    "print(f\"Sort {arr}: {np.sort(arr)}\")"
   ]
  },
  {
   "cell_type": "code",
   "execution_count": 28,
   "metadata": {},
   "outputs": [
    {
     "name": "stdout",
     "output_type": "stream",
     "text": [
      "Find the indexes where the value is 9: (array([3]),)\n"
     ]
    }
   ],
   "source": [
    "#  Exercise 1.5\n",
    "arr = np.array([3, 2, 14, 9, 10, 12])\n",
    "index = np.where(arr == 9)\n",
    "print(f\"Find the indexes where the value is 9: {index}\")"
   ]
  },
  {
   "cell_type": "code",
   "execution_count": 33,
   "metadata": {},
   "outputs": [
    {
     "name": "stdout",
     "output_type": "stream",
     "text": [
      "Join [9 5 8] and [55 89 76]: [ 9  5  8 55 89 76]\n"
     ]
    }
   ],
   "source": [
    "#  Exercise 1.6\n",
    "\n",
    "arr1 = np.array([9, 5, 8])\n",
    "arr2 = np.array([55, 89, 76])\n",
    "\n",
    "print(f\"Join {arr1} and {arr2}: {np.concatenate((arr1, arr2))}\")"
   ]
  },
  {
   "cell_type": "code",
   "execution_count": null,
   "metadata": {},
   "outputs": [],
   "source": []
  }
 ],
 "metadata": {
  "kernelspec": {
   "display_name": "Python 3 (ipykernel)",
   "language": "python",
   "name": "python3"
  },
  "language_info": {
   "codemirror_mode": {
    "name": "ipython",
    "version": 3
   },
   "file_extension": ".py",
   "mimetype": "text/x-python",
   "name": "python",
   "nbconvert_exporter": "python",
   "pygments_lexer": "ipython3",
   "version": "3.12.9"
  }
 },
 "nbformat": 4,
 "nbformat_minor": 4
}
