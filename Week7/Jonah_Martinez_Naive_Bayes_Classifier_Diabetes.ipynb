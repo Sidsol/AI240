{
 "cells": [
  {
   "cell_type": "markdown",
   "metadata": {},
   "source": [
    "# Homework # 4 Naive BAYES Classifier\n",
    "\n",
    "### Instructor - Dr. Uma Gajendragadkar\n",
    "\n",
    "### Problem - Design and develop Machine learning model to predict Diabetes using Naive Bayes Algorithm. \n",
    "\n",
    "### Dataset - Diabetes dataset\n",
    "\n",
    "This dataset consists of 768 observations & 8 numerical independent variables.\n",
    "Dependent and target variable is OUTCOME. 1 means diabetes test result being positive, 0 means indicates negative.\n",
    "\n",
    "Pregnancies: Number of Times Being Pregnant\n",
    "\n",
    "Glucose: Plasma Glucose Concentration (a 2 hours in an oral glucose tolerance test)\n",
    "\n",
    "BloodPressure: Diastolic Blood Pressure (mm Hg)\n",
    "\n",
    "SkinThickness: Triceps Skin Fold Thickness (mm)\n",
    "\n",
    "Insulin: 2-Hour Serum Insulin (mu U/ml)\n",
    "\n",
    "BMI: Body Mass Index (weight in kg/(height in m)^2)\n",
    "\n",
    "DiabetesPedigreeFunction: Diabetes Pedigree Function\n",
    "\n",
    "Age: Age\n",
    "\n",
    "Outcome: Class variable ( 0 - 1)\n",
    "\n"
   ]
  },
  {
   "cell_type": "code",
   "execution_count": 38,
   "metadata": {},
   "outputs": [],
   "source": [
    "import numpy as np\n",
    "import pandas as pd\n",
    "import seaborn as sns\n",
    "from matplotlib import pyplot as plt\n",
    "from sklearn.metrics import accuracy_score, f1_score\n",
    "from sklearn.preprocessing import StandardScaler\n",
    "from sklearn.metrics import accuracy_score, roc_auc_score, confusion_matrix, classification_report, f1_score\n",
    "from sklearn.model_selection import train_test_split, cross_validate\n",
    "pd.set_option('display.max_columns', None)\n",
    "pd.set_option('display.float_format', lambda x: '%.3f' % x)\n",
    "pd.set_option('display.width', 500)\n",
    "import warnings\n",
    "warnings.filterwarnings('ignore')\n",
    "import matplotlib.pyplot  as plt\n",
    "from sklearn.model_selection import KFold\n",
    "from sklearn.model_selection import cross_val_score\n",
    "from sklearn import preprocessing\n",
    "from sklearn.naive_bayes import GaussianNB\n",
    "from sklearn import metrics"
   ]
  },
  {
   "cell_type": "markdown",
   "metadata": {},
   "source": [
    "Step 1 - Write code to Read data from dataset into pandas dataframe"
   ]
  },
  {
   "cell_type": "code",
   "execution_count": 2,
   "metadata": {},
   "outputs": [],
   "source": [
    "# Load the dataset\n",
    "diabetes_data = pd.read_csv('diabetes.csv')\n"
   ]
  },
  {
   "cell_type": "markdown",
   "metadata": {},
   "source": [
    "Step 2 - a) Write code to display dataset info \n",
    "b) Print 10 rows from dataset."
   ]
  },
  {
   "cell_type": "code",
   "execution_count": 36,
   "metadata": {},
   "outputs": [
    {
     "name": "stdout",
     "output_type": "stream",
     "text": [
      "<class 'pandas.core.frame.DataFrame'>\n",
      "RangeIndex: 768 entries, 0 to 767\n",
      "Data columns (total 8 columns):\n",
      " #   Column                    Non-Null Count  Dtype  \n",
      "---  ------                    --------------  -----  \n",
      " 0   Glucose                   768 non-null    float64\n",
      " 1   BloodPressure             768 non-null    float64\n",
      " 2   SkinThickness             768 non-null    float64\n",
      " 3   Insulin                   768 non-null    float64\n",
      " 4   BMI                       768 non-null    float64\n",
      " 5   DiabetesPedigreeFunction  768 non-null    float64\n",
      " 6   Age                       768 non-null    int64  \n",
      " 7   Outcome                   768 non-null    int64  \n",
      "dtypes: float64(6), int64(2)\n",
      "memory usage: 48.1 KB\n",
      "None\n",
      "   Glucose  BloodPressure  SkinThickness  Insulin    BMI  DiabetesPedigreeFunction  Age  Outcome\n",
      "0  148.000         72.000         35.000  125.000 33.600                     0.627   50        1\n",
      "1   85.000         66.000         29.000  125.000 26.600                     0.351   31        0\n",
      "2  183.000         64.000         29.000  125.000 23.300                     0.672   32        1\n",
      "3   89.000         66.000         23.000   94.000 28.100                     0.167   21        0\n",
      "4  137.000         40.000         35.000  168.000 43.100                     2.288   33        1\n",
      "5  116.000         74.000         29.000  125.000 25.600                     0.201   30        0\n",
      "6   78.000         50.000         32.000   88.000 31.000                     0.248   26        1\n",
      "7  115.000         72.000         29.000  125.000 35.300                     0.134   29        0\n",
      "8  197.000         70.000         45.000  543.000 30.500                     0.158   53        1\n",
      "9  125.000         96.000         29.000  125.000 32.300                     0.232   54        1\n"
     ]
    }
   ],
   "source": [
    "# Print the first few rows and summary statistics of the dataset\n",
    "print(diabetes_data.info())\n",
    "print(diabetes_data.head(10))"
   ]
  },
  {
   "cell_type": "markdown",
   "metadata": {},
   "source": [
    "Step 3 - Write code to remove Pregnancy column "
   ]
  },
  {
   "cell_type": "code",
   "execution_count": 7,
   "metadata": {},
   "outputs": [],
   "source": [
    "# Drop the 'Pregnancies' column\n",
    "diabetes_data = diabetes_data.drop('Pregnancies', axis=1)"
   ]
  },
  {
   "cell_type": "markdown",
   "metadata": {},
   "source": [
    "Step 4 - Write code to display info of dataset and check shape of dataset."
   ]
  },
  {
   "cell_type": "code",
   "execution_count": 37,
   "metadata": {},
   "outputs": [
    {
     "name": "stdout",
     "output_type": "stream",
     "text": [
      "<class 'pandas.core.frame.DataFrame'>\n",
      "RangeIndex: 768 entries, 0 to 767\n",
      "Data columns (total 8 columns):\n",
      " #   Column                    Non-Null Count  Dtype  \n",
      "---  ------                    --------------  -----  \n",
      " 0   Glucose                   768 non-null    float64\n",
      " 1   BloodPressure             768 non-null    float64\n",
      " 2   SkinThickness             768 non-null    float64\n",
      " 3   Insulin                   768 non-null    float64\n",
      " 4   BMI                       768 non-null    float64\n",
      " 5   DiabetesPedigreeFunction  768 non-null    float64\n",
      " 6   Age                       768 non-null    int64  \n",
      " 7   Outcome                   768 non-null    int64  \n",
      "dtypes: float64(6), int64(2)\n",
      "memory usage: 48.1 KB\n",
      "None\n",
      "(768, 8)\n"
     ]
    }
   ],
   "source": [
    "print(diabetes_data.info())\n",
    "print(diabetes_data.shape)"
   ]
  },
  {
   "cell_type": "markdown",
   "metadata": {},
   "source": [
    "Step 5 - Write code to clean data"
   ]
  },
  {
   "cell_type": "code",
   "execution_count": 9,
   "metadata": {},
   "outputs": [
    {
     "name": "stdout",
     "output_type": "stream",
     "text": [
      "Glucose                     0\n",
      "BloodPressure               0\n",
      "SkinThickness               0\n",
      "Insulin                     0\n",
      "BMI                         0\n",
      "DiabetesPedigreeFunction    0\n",
      "Age                         0\n",
      "Outcome                     0\n",
      "dtype: int64\n"
     ]
    }
   ],
   "source": [
    "# Columns where 0 is likely an invalid value\n",
    "cols_with_zero_invalid = ['Glucose', 'BloodPressure', 'SkinThickness', 'Insulin', 'BMI']\n",
    "\n",
    "# Replace zeros with NaN\n",
    "diabetes_data[cols_with_zero_invalid] = diabetes_data[cols_with_zero_invalid].replace(0, np.nan)\n",
    "\n",
    "# Impute missing values with median (more robust to outliers)\n",
    "diabetes_data[cols_with_zero_invalid] = diabetes_data[cols_with_zero_invalid].fillna(diabetes_data[cols_with_zero_invalid].median())\n",
    "\n",
    "# Check for any remaining missing values\n",
    "print(diabetes_data.isnull().sum())\n"
   ]
  },
  {
   "cell_type": "markdown",
   "metadata": {},
   "source": [
    "Step 6 - Split data into training and testing sets ( 80: 20 ratio)"
   ]
  },
  {
   "cell_type": "code",
   "execution_count": null,
   "metadata": {},
   "outputs": [],
   "source": [
    "# Select features\n",
    "feature_cols = ['Glucose', 'BloodPressure', 'SkinThickness', 'Insulin', 'BMI', 'DiabetesPedigreeFunction', 'Age']\n",
    "X = diabetes_data[feature_cols]\n",
    "y = diabetes_data.Outcome\n",
    "\n",
    "X_train, X_test, y_train, y_test = train_test_split(X, y, test_size=0.20, random_state=2)\n",
    "\n",
    "# Feature scaling\n",
    "scaler = StandardScaler()\n",
    "X_train = scaler.fit_transform(X_train)\n",
    "X_test = scaler.transform(X_test)"
   ]
  },
  {
   "cell_type": "markdown",
   "metadata": {},
   "source": [
    "#### **Step #7: Initialize your model**\n",
    "\n",
    "\n"
   ]
  },
  {
   "cell_type": "code",
   "execution_count": 15,
   "metadata": {},
   "outputs": [],
   "source": [
    "# Build a Gaussian Classifier\n",
    "model = GaussianNB()"
   ]
  },
  {
   "cell_type": "markdown",
   "metadata": {},
   "source": [
    "#### **Step #8: Fit your model, test on the testing data, and create a visualization if applicable**"
   ]
  },
  {
   "cell_type": "code",
   "execution_count": 39,
   "metadata": {},
   "outputs": [
    {
     "name": "stdout",
     "output_type": "stream",
     "text": [
      "              precision    recall  f1-score   support\n",
      "\n",
      " No diabetes       0.82      0.82      0.82       109\n",
      "Has diabetes       0.56      0.56      0.56        45\n",
      "\n",
      "    accuracy                           0.74       154\n",
      "   macro avg       0.69      0.69      0.69       154\n",
      "weighted avg       0.74      0.74      0.74       154\n",
      "\n"
     ]
    }
   ],
   "source": [
    "# Model training\n",
    "model.fit(X_train, y_train)\n",
    "\n",
    "# Predict Output\n",
    "y_pred = model.predict(X_test)\n",
    "\n",
    "# Classification report\n",
    "target_names = ['No diabetes', 'Has diabetes']\n",
    "print(classification_report(y_test, y_pred, target_names=target_names))"
   ]
  },
  {
   "cell_type": "markdown",
   "metadata": {},
   "source": [
    "Step 9 - Predict using model on test data"
   ]
  },
  {
   "cell_type": "code",
   "execution_count": 40,
   "metadata": {},
   "outputs": [],
   "source": [
    "y_pred = model.predict(X_test)"
   ]
  },
  {
   "cell_type": "markdown",
   "metadata": {},
   "source": [
    "Step 10 -  Find accuracy of model"
   ]
  },
  {
   "cell_type": "code",
   "execution_count": null,
   "metadata": {},
   "outputs": [
    {
     "name": "stdout",
     "output_type": "stream",
     "text": [
      "Accuracy: 0.7402597402597403\n",
      "F1 Score: 0.7402597402597403\n"
     ]
    }
   ],
   "source": [
    "# Find accuracy and F1 score\n",
    "accuray = accuracy_score(y_pred, y_test)\n",
    "f1 = metrics.f1_score(y_pred, y_test, average=\"weighted\")\n",
    "\n",
    "print(\"Accuracy:\", accuray)\n",
    "print(\"F1 Score:\", f1)"
   ]
  },
  {
   "cell_type": "markdown",
   "metadata": {},
   "source": [
    "Step 11 - Confusion Matrix"
   ]
  },
  {
   "cell_type": "code",
   "execution_count": 28,
   "metadata": {},
   "outputs": [
    {
     "data": {
      "image/png": "[encoded data removed]",
      "text/plain": [
       "<Figure size 640x480 with 2 Axes>"
      ]
     },
     "metadata": {},
     "output_type": "display_data"
    }
   ],
   "source": [
    "# Generate confusion matrix\n",
    "cm = confusion_matrix(y_test, y_pred)\n",
    "disp = metrics.ConfusionMatrixDisplay(confusion_matrix=cm)\n",
    "disp.plot()\n",
    "plt.title(\"Confusion Matrix\")\n",
    "plt.show()"
   ]
  }
 ],
 "metadata": {
  "kernelspec": {
   "display_name": "AI240-env",
   "language": "python",
   "name": "python3"
  },
  "language_info": {
   "codemirror_mode": {
    "name": "ipython",
    "version": 3
   },
   "file_extension": ".py",
   "mimetype": "text/x-python",
   "name": "python",
   "nbconvert_exporter": "python",
   "pygments_lexer": "ipython3",
   "version": "3.12.9"
  }
 },
 "nbformat": 4,
 "nbformat_minor": 4
}
